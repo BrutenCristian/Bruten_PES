{
 "cells": [
  {
   "cell_type": "code",
   "execution_count": 5,
   "id": "0bad18a7-c07b-4600-b5c7-4ecb80e575db",
   "metadata": {},
   "outputs": [],
   "source": [
    "# 1. Definir funciones para generar señal cuadrada y triangular en python 'puro' (sin librerías)."
   ]
  },
  {
   "cell_type": "code",
   "execution_count": null,
   "id": "4f78d239-acf5-4d58-a341-e9140636fb01",
   "metadata": {},
   "outputs": [],
   "source": [
    "#Codigo de item 1\n",
    "import matplotlib.pyplot as plt\n",
    "\n",
    "def señal_cuadrada():\n",
    "  cuadrada = []\n",
    "  for cont in range(10):\n",
    "    if(cont <= 5):\n",
    "      cuadrada.append(0)\n",
    "    else:\n",
    "      cuadrada.append(1)\n",
    "  return cuadrada\n",
    "\n",
    "def señal_triangular():\n",
    "  triangular = []\n",
    "  for cont in range(10):\n",
    "    if(cont <= 5):\n",
    "      triangular.append(cont)\n",
    "    else:\n",
    "      triangular.append(triangular[cont - 1] - 1)\n",
    "  return triangular\n",
    "\n",
    "plt.plot(señal_cuadrada())\n",
    "plt.title(\"Señal Cuadrada\")\n",
    "plt.show()\n",
    "\n",
    "plt.plot(señal_triangular())\n",
    "plt.title(\"Señal Triangular\")\n",
    "plt.show()"
   ]
  },
  {
   "cell_type": "code",
   "execution_count": null,
   "id": "1d177c05-43fd-41e9-9163-fe42343d8170",
   "metadata": {},
   "outputs": [],
   "source": [
    "# 2. Generar, con *numpy* y/o *scipy.signal*, las señales: cuadrada, dirac, triangular, y senoidal.\n",
    "\n",
    "\n",
    "# Pista: Esto es como lo que hicimos en el punto anterior, pero usando el método\n",
    "# np.append en lugar del .append propio de Python.\n",
    "\n",
    "# Señal Cuadrada con numpy\n",
    "\n",
    "# Señal delta de dirac con numpy\n",
    "\n",
    "# Señal triangular con numpy\n",
    "\n",
    "# Señal senoidal con numpy"
   ]
  },
  {
   "cell_type": "code",
   "execution_count": null,
   "id": "498688f9-4ffc-4955-99c0-23dc55feceb9",
   "metadata": {},
   "outputs": [],
   "source": [
    "#Codigo de item 2\n",
    "import numpy as np\n",
    "\n",
    "def señal_cuadrada_numpy():\n",
    "  cuadrada = np.zeros(10)\n",
    "  cuadrada[5:] = 1\n",
    "  return cuadrada\n",
    "\n",
    "def señal_triangular_numpy():\n",
    "  triangular = np.array([])\n",
    "  for cont in range(0, 10, 1):\n",
    "    if(cont <= 5):\n",
    "      triangular = np.append(triangular, cont)\n",
    "    else:\n",
    "      aux = triangular[cont - 1] - 1\n",
    "      triangular = np.append(triangular, aux)\n",
    "  return triangular\n",
    "\n",
    "def señal_dirac_numpy():\n",
    "  dirac = np.zeros(10)\n",
    "  dirac[5] = 1\n",
    "  return dirac\n",
    "\n",
    "def señal_senoidal_numpy():\n",
    "  senoidal = np.sin(np.linspace(0, 10, 100))\n",
    "  return senoidal\n",
    "\n",
    "plt.plot(señal_cuadrada_numpy())\n",
    "plt.title(\"Señal Cuadrada\")\n",
    "plt.show()\n",
    "\n",
    "plt.plot(señal_triangular_numpy())\n",
    "plt.title(\"Señal Triangular\")\n",
    "plt.show()\n",
    "\n",
    "plt.plot(señal_dirac_numpy())\n",
    "plt.title(\"Señal Delta de Dirac\")\n",
    "plt.show()\n",
    "\n",
    "plt.plot(señal_senoidal_numpy())\n",
    "plt.title(\"Señal Senoidal\")\n",
    "plt.show()"
   ]
  },
  {
   "cell_type": "code",
   "execution_count": null,
   "id": "d9ce8a4d-3cc3-40ba-9174-b057de224a64",
   "metadata": {},
   "outputs": [],
   "source": [
    "# 3. Hacer lo mismo que en el punto anterior usando una base de tiempo. Graficar todas las señales.\n",
    "\n",
    "# Señal triangular con numpy/scipy? (pista: sig.sawtooth)\n",
    "\n",
    "# Señal senoidal con numpy/scipy? (pista: np.sin)\n",
    "\n",
    "# Delta de dirac con numpy/scipy? (pista: sig.unit_impulse)"
   ]
  },
  {
   "cell_type": "code",
   "execution_count": null,
   "id": "1fc8cc62-6aff-4959-9f98-2a28bd6e3c59",
   "metadata": {},
   "outputs": [],
   "source": [
    "#Codigo del item 3\n",
    "import scipy.signal as sig\n",
    "\n",
    "t = np.linspace(0, 10, 100)\n",
    "plt.plot(t, sig.square(t, duty = 0.5))\n",
    "plt.title(\"Señal Cuadrada\")\n",
    "plt.show()\n",
    "\n",
    "plt.plot(t, sig.sawtooth(t, 0.5))\n",
    "plt.title(\"Señal Triangular\")\n",
    "plt.show()\n",
    "\n",
    "plt.plot(t, sig.unit_impulse(100))\n",
    "plt.title(\"Señal Delta de Dirac\")\n",
    "plt.show()\n",
    "\n",
    "plt.plot(t, np.sin(t))\n",
    "plt.title(\"Señal Senoidal\")\n",
    "plt.show()"
   ]
  },
  {
   "cell_type": "code",
   "execution_count": null,
   "id": "744c4831-cf0f-43c1-a502-b0312381f278",
   "metadata": {},
   "outputs": [],
   "source": [
    "# 4. Calcular máximos y mínimos con subindices en python puro."
   ]
  },
  {
   "cell_type": "code",
   "execution_count": null,
   "id": "ff7e0132-cbd5-49b3-8e0b-985db4f0b6c7",
   "metadata": {},
   "outputs": [],
   "source": [
    "#Codigo item 4\n",
    "array = señal_triangular()\n",
    "\n",
    "maximo = max(array)\n",
    "minimo = min(array)\n",
    "\n",
    "print(\"El array contiene los sigueintes valores: \" + str(array))\n",
    "print(\"El valor maximo es: \" + str(maximo))\n",
    "print(\"El valor minimo es: \" + str(minimo))"
   ]
  },
  {
   "cell_type": "code",
   "execution_count": null,
   "id": "b57e7570-1037-4467-ae94-0f8f0e29e9b2",
   "metadata": {},
   "outputs": [],
   "source": [
    "# 5. Idem anterior con numpy."
   ]
  },
  {
   "cell_type": "code",
   "execution_count": null,
   "id": "e49d7954-5933-48e3-a56e-0b706f64ca5a",
   "metadata": {},
   "outputs": [],
   "source": [
    "#Codigo item 5\n",
    "array_numpy = señal_triangular_numpy()\n",
    "\n",
    "maximo_numpy = np.max(array_numpy)\n",
    "minimo_numpy = np.min(array_numpy)\n",
    "\n",
    "print(\"El array contiene los sigueintes valores: \" + str(array_numpy))\n",
    "print(\"El valor maximo es: \" + str(maximo_numpy))\n",
    "print(\"El valor minimo es: \" + str(minimo_numpy))"
   ]
  }
 ],
 "metadata": {
  "kernelspec": {
   "display_name": "Python 3 (ipykernel)",
   "language": "python",
   "name": "python3"
  },
  "language_info": {
   "codemirror_mode": {
    "name": "ipython",
    "version": 3
   },
   "file_extension": ".py",
   "mimetype": "text/x-python",
   "name": "python",
   "nbconvert_exporter": "python",
   "pygments_lexer": "ipython3",
   "version": "3.10.5"
  }
 },
 "nbformat": 4,
 "nbformat_minor": 5
}
